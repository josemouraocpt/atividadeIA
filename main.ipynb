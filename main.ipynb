{
 "cells": [
  {
   "cell_type": "code",
   "execution_count": 19,
   "metadata": {},
   "outputs": [],
   "source": [
    "import numpy as np\n",
    "from PIL import Image\n",
    "\n",
    "import torch\n",
    "import torch.nn as nn\n",
    "import torch.nn.functional as F\n",
    "import torch.optim as optim\n",
    "\n",
    "import torchvision\n",
    "import torchvision.transforms as transforms"
   ]
  },
  {
   "cell_type": "code",
   "execution_count": 20,
   "metadata": {},
   "outputs": [],
   "source": [
    "transform = transforms.Compose([\n",
    "    transforms.ToTensor(),\n",
    "    transforms.Normalize((0.5,  0.5, 0.5), (0.5, 0.5, 0.5))\n",
    "])"
   ]
  },
  {
   "cell_type": "code",
   "execution_count": 21,
   "metadata": {},
   "outputs": [
    {
     "name": "stdout",
     "output_type": "stream",
     "text": [
      "Files already downloaded and verified\n",
      "Files already downloaded and verified\n"
     ]
    }
   ],
   "source": [
    "train_data = torchvision.datasets.CIFAR10(root=\"./data\", train=True, transform=transform, download=True)\n",
    "test_data = torchvision.datasets.CIFAR10(root=\"./data\", train=False, transform=transform, download=True)\n",
    "\n",
    "train_loader = torch.utils.data.DataLoader(train_data, batch_size=32, shuffle=True, num_workers=2)\n",
    "test_loader = torch.utils.data.DataLoader(test_data, batch_size=32, shuffle=True, num_workers=2)"
   ]
  },
  {
   "cell_type": "code",
   "execution_count": 22,
   "metadata": {},
   "outputs": [],
   "source": [
    "image, label = train_data[0]"
   ]
  },
  {
   "cell_type": "code",
   "execution_count": 23,
   "metadata": {},
   "outputs": [
    {
     "data": {
      "text/plain": [
       "torch.Size([3, 32, 32])"
      ]
     },
     "execution_count": 23,
     "metadata": {},
     "output_type": "execute_result"
    }
   ],
   "source": [
    "image.shape"
   ]
  },
  {
   "cell_type": "code",
   "execution_count": 24,
   "metadata": {},
   "outputs": [],
   "source": [
    "class_names = ['plane', 'car', 'bird', 'cat', 'deer', 'dog', 'frog', 'horse', 'ship', 'truck']"
   ]
  },
  {
   "cell_type": "code",
   "execution_count": 25,
   "metadata": {},
   "outputs": [],
   "source": [
    "class NeuralNet(nn.Module):\n",
    "    def __init__(self):\n",
    "        super().__init__()\n",
    "\n",
    "        self.conv1 = nn.Conv2d(3, 12, 5) #(12, 28, 28)\n",
    "        self.pool = nn.MaxPool2d(2, 2) #(12, 14, 14)\n",
    "        self.conv2 = nn.Conv2d(12, 24, 5) #(24, 10, 10) -> (24, 5, 5) -> Flatten (24 * 5 * 5)\n",
    "        self.fc1  = nn.Linear(24 * 5 * 5, 120)\n",
    "        self.fc2  = nn.Linear(120, 84)\n",
    "        self.fc3  = nn.Linear(84, 10)\n",
    "\n",
    "    def forward(self, x):\n",
    "        x = self.pool(F.relu(self.conv1(x)))\n",
    "        x = self.pool(F.relu(self.conv2(x)))\n",
    "        x = torch.flatten(x, 1)\n",
    "        x = F.relu(self.fc1(x))\n",
    "        x = F.relu(self.fc2(x))\n",
    "        x = self.fc3(x)\n",
    "        return x"
   ]
  },
  {
   "cell_type": "code",
   "execution_count": 26,
   "metadata": {},
   "outputs": [],
   "source": [
    "net = NeuralNet()\n",
    "loss_function = nn.CrossEntropyLoss()\n",
    "optimizer = optim.SGD(net.parameters(), lr=0.001, momentum=0.9)"
   ]
  },
  {
   "cell_type": "code",
   "execution_count": 27,
   "metadata": {},
   "outputs": [
    {
     "name": "stdout",
     "output_type": "stream",
     "text": [
      "Training epoch 0...\n",
      "Loss: 2.1915\n",
      "Training epoch 1...\n",
      "Loss: 1.8338\n",
      "Training epoch 2...\n",
      "Loss: 1.5501\n",
      "Training epoch 3...\n",
      "Loss: 1.4243\n",
      "Training epoch 4...\n",
      "Loss: 1.3342\n",
      "Training epoch 5...\n",
      "Loss: 1.2546\n",
      "Training epoch 6...\n",
      "Loss: 1.1921\n",
      "Training epoch 7...\n",
      "Loss: 1.1314\n",
      "Training epoch 8...\n",
      "Loss: 1.0802\n",
      "Training epoch 9...\n",
      "Loss: 1.0357\n",
      "Training epoch 10...\n",
      "Loss: 0.9929\n",
      "Training epoch 11...\n",
      "Loss: 0.9541\n",
      "Training epoch 12...\n",
      "Loss: 0.9179\n",
      "Training epoch 13...\n",
      "Loss: 0.8849\n",
      "Training epoch 14...\n",
      "Loss: 0.8516\n",
      "Training epoch 15...\n",
      "Loss: 0.8239\n",
      "Training epoch 16...\n",
      "Loss: 0.7926\n",
      "Training epoch 17...\n",
      "Loss: 0.7677\n",
      "Training epoch 18...\n",
      "Loss: 0.7354\n",
      "Training epoch 19...\n",
      "Loss: 0.7140\n",
      "Training epoch 20...\n",
      "Loss: 0.6910\n",
      "Training epoch 21...\n",
      "Loss: 0.6690\n",
      "Training epoch 22...\n",
      "Loss: 0.6465\n",
      "Training epoch 23...\n",
      "Loss: 0.6207\n",
      "Training epoch 24...\n",
      "Loss: 0.6006\n",
      "Training epoch 25...\n",
      "Loss: 0.5765\n",
      "Training epoch 26...\n",
      "Loss: 0.5553\n",
      "Training epoch 27...\n",
      "Loss: 0.5325\n",
      "Training epoch 28...\n",
      "Loss: 0.5176\n",
      "Training epoch 29...\n",
      "Loss: 0.4944\n",
      "Training epoch 30...\n",
      "Loss: 0.4765\n",
      "Training epoch 31...\n",
      "Loss: 0.4569\n",
      "Training epoch 32...\n",
      "Loss: 0.4361\n",
      "Training epoch 33...\n",
      "Loss: 0.4183\n",
      "Training epoch 34...\n",
      "Loss: 0.3995\n",
      "Training epoch 35...\n",
      "Loss: 0.3804\n",
      "Training epoch 36...\n",
      "Loss: 0.3628\n",
      "Training epoch 37...\n",
      "Loss: 0.3516\n",
      "Training epoch 38...\n",
      "Loss: 0.3358\n",
      "Training epoch 39...\n",
      "Loss: 0.3175\n",
      "Training epoch 40...\n",
      "Loss: 0.3079\n",
      "Training epoch 41...\n",
      "Loss: 0.2882\n",
      "Training epoch 42...\n",
      "Loss: 0.2772\n",
      "Training epoch 43...\n",
      "Loss: 0.2613\n",
      "Training epoch 44...\n",
      "Loss: 0.2480\n",
      "Training epoch 45...\n",
      "Loss: 0.2363\n",
      "Training epoch 46...\n",
      "Loss: 0.2283\n",
      "Training epoch 47...\n",
      "Loss: 0.2118\n",
      "Training epoch 48...\n",
      "Loss: 0.2140\n",
      "Training epoch 49...\n",
      "Loss: 0.2012\n"
     ]
    }
   ],
   "source": [
    "for epoch in range(50):\n",
    "    print(f'Training epoch {epoch}...')\n",
    "\n",
    "    running_loss = 0.0\n",
    "    \n",
    "    for i, data in enumerate(train_loader):\n",
    "        inputs, labels = data\n",
    "\n",
    "        optimizer.zero_grad()\n",
    "\n",
    "        outputs = net(inputs)\n",
    "\n",
    "        loss = loss_function(outputs, labels)\n",
    "        loss.backward()\n",
    "        optimizer.step()\n",
    "\n",
    "        running_loss += loss.item()\n",
    "\n",
    "    print(f'Loss: {running_loss / len(train_loader):.4f}')"
   ]
  },
  {
   "cell_type": "code",
   "execution_count": 28,
   "metadata": {},
   "outputs": [],
   "source": [
    "torch.save(net.state_dict(), 'trained_net.pth')"
   ]
  },
  {
   "cell_type": "code",
   "execution_count": 29,
   "metadata": {},
   "outputs": [
    {
     "name": "stderr",
     "output_type": "stream",
     "text": [
      "C:\\Users\\Jose\\AppData\\Local\\Temp\\ipykernel_9260\\1080633788.py:2: FutureWarning: You are using `torch.load` with `weights_only=False` (the current default value), which uses the default pickle module implicitly. It is possible to construct malicious pickle data which will execute arbitrary code during unpickling (See https://github.com/pytorch/pytorch/blob/main/SECURITY.md#untrusted-models for more details). In a future release, the default value for `weights_only` will be flipped to `True`. This limits the functions that could be executed during unpickling. Arbitrary objects will no longer be allowed to be loaded via this mode unless they are explicitly allowlisted by the user via `torch.serialization.add_safe_globals`. We recommend you start setting `weights_only=True` for any use case where you don't have full control of the loaded file. Please open an issue on GitHub for any issues related to this experimental feature.\n",
      "  net.load_state_dict(torch.load('trained_net.pth'))\n"
     ]
    },
    {
     "data": {
      "text/plain": [
       "<All keys matched successfully>"
      ]
     },
     "execution_count": 29,
     "metadata": {},
     "output_type": "execute_result"
    }
   ],
   "source": [
    "net  = NeuralNet()\n",
    "net.load_state_dict(torch.load('trained_net.pth'))"
   ]
  },
  {
   "cell_type": "code",
   "execution_count": 30,
   "metadata": {},
   "outputs": [
    {
     "name": "stdout",
     "output_type": "stream",
     "text": [
      "Accuracy: 65.13%\n"
     ]
    }
   ],
   "source": [
    "correct = 0\n",
    "total = 0\n",
    "\n",
    "net.eval()\n",
    "\n",
    "with torch.no_grad():\n",
    "    for data in test_loader:\n",
    "        images, labels = data\n",
    "        outputs = net(images)\n",
    "        _, predicted = torch.max(outputs, 1)\n",
    "        total += labels.size(0)\n",
    "        correct += (predicted == labels).sum().item()\n",
    "\n",
    "accuracy = 100 * correct / total\n",
    "\n",
    "print(f'Accuracy: {accuracy}%')"
   ]
  },
  {
   "cell_type": "code",
   "execution_count": 66,
   "metadata": {},
   "outputs": [
    {
     "name": "stdout",
     "output_type": "stream",
     "text": [
      "Prediction: plane - File name: aviao1.jpeg\n",
      "Prediction: cat - File name: aviao10.jpg\n",
      "Prediction: plane - File name: aviao2.jpg\n",
      "Prediction: plane - File name: aviao3.jpg\n",
      "Prediction: ship - File name: aviao4.jpg\n",
      "Prediction: bird - File name: aviao5.jpg\n",
      "Prediction: deer - File name: aviao6.jpg\n",
      "Prediction: bird - File name: aviao7.jpg\n",
      "Prediction: plane - File name: aviao8.jpg\n",
      "Prediction: plane - File name: aviao9.jpg\n",
      "Prediction: car - File name: carro1.jpeg\n",
      "Prediction: plane - File name: carro10.jpeg\n",
      "Prediction: car - File name: carro2.jpg\n",
      "Prediction: car - File name: carro3.jpg\n",
      "Prediction: car - File name: carro4.jpg\n",
      "Prediction: car - File name: carro5.jpg\n",
      "Prediction: truck - File name: carro6.jpg\n",
      "Prediction: car - File name: carro7.jpg\n",
      "Prediction: car - File name: carro8.jpg\n",
      "Prediction: car - File name: carro9.jpg\n",
      "Prediction: deer - File name: deer1.jpg\n",
      "Prediction: deer - File name: deer10.jpg\n",
      "Prediction: deer - File name: deer2.jpg\n",
      "Prediction: deer - File name: deer3.jpg\n",
      "Prediction: cat - File name: deer4.jpg\n",
      "Prediction: horse - File name: deer5.jpg\n",
      "Prediction: frog - File name: deer6.jpg\n",
      "Prediction: deer - File name: deer7.jpg\n",
      "Prediction: horse - File name: deer8.jpg\n",
      "Prediction: deer - File name: deer9.jpg\n",
      "Prediction: cat - File name: dog1.png\n",
      "Prediction: bird - File name: dog10.png\n",
      "Prediction: deer - File name: dog2.png\n",
      "Prediction: cat - File name: dog3.png\n",
      "Prediction: dog - File name: dog4.png\n",
      "Prediction: ship - File name: dog5.png\n",
      "Prediction: bird - File name: dog6.png\n",
      "Prediction: dog - File name: dog7.png\n",
      "Prediction: dog - File name: dog8.png\n",
      "Prediction: bird - File name: dog9.png\n",
      "Prediction: frog - File name: frog1.png\n",
      "Prediction: frog - File name: frog10.png\n",
      "Prediction: frog - File name: frog2.png\n",
      "Prediction: frog - File name: frog3.png\n",
      "Prediction: deer - File name: frog4.png\n",
      "Prediction: frog - File name: frog5.png\n",
      "Prediction: frog - File name: frog6.png\n",
      "Prediction: frog - File name: frog7.png\n",
      "Prediction: bird - File name: frog8.png\n",
      "Prediction: dog - File name: frog9.png\n",
      "Prediction: cat - File name: gato1.jpg\n",
      "Prediction: dog - File name: gato10.jpg\n",
      "Prediction: cat - File name: gato2.jpg\n",
      "Prediction: cat - File name: gato3.jpg\n",
      "Prediction: dog - File name: gato4.jpg\n",
      "Prediction: cat - File name: gato5.jpg\n",
      "Prediction: bird - File name: gato6.jpg\n",
      "Prediction: horse - File name: gato7.jpg\n",
      "Prediction: dog - File name: gato8.png\n",
      "Prediction: deer - File name: gato9.jpg\n",
      "Prediction: horse - File name: horse1.png\n",
      "Prediction: horse - File name: horse10.png\n",
      "Prediction: horse - File name: horse2.png\n",
      "Prediction: cat - File name: horse3.png\n",
      "Prediction: dog - File name: horse4.png\n",
      "Prediction: horse - File name: horse5.png\n",
      "Prediction: bird - File name: horse6.png\n",
      "Prediction: horse - File name: horse7.png\n",
      "Prediction: deer - File name: horse8.png\n",
      "Prediction: horse - File name: horse9.png\n",
      "Prediction: cat - File name: passaro1.jpg\n",
      "Prediction: deer - File name: passaro10.jpg\n",
      "Prediction: cat - File name: passaro2.jpg\n",
      "Prediction: bird - File name: passaro3.jpg\n",
      "Prediction: car - File name: passaro4.jpg\n",
      "Prediction: bird - File name: passaro5.jpg\n",
      "Prediction: bird - File name: passaro6.png\n",
      "Prediction: bird - File name: passaro7.jpg\n",
      "Prediction: bird - File name: passaro8.jpg\n",
      "Prediction: deer - File name: passaro9.JPG\n",
      "Prediction: ship - File name: ship1.png\n",
      "Prediction: bird - File name: ship10.png\n",
      "Prediction: ship - File name: ship2.jpg\n",
      "Prediction: ship - File name: ship3.png\n",
      "Prediction: ship - File name: ship4.png\n",
      "Prediction: ship - File name: ship5.png\n",
      "Prediction: car - File name: ship6.png\n",
      "Prediction: ship - File name: ship7.png\n",
      "Prediction: ship - File name: ship8.png\n",
      "Prediction: ship - File name: ship9.png\n",
      "Prediction: truck - File name: truck1.png\n",
      "Prediction: truck - File name: truck10.png\n",
      "Prediction: truck - File name: truck2.png\n",
      "Prediction: plane - File name: truck3.png\n",
      "Prediction: truck - File name: truck4.png\n",
      "Prediction: car - File name: truck5.png\n",
      "Prediction: truck - File name: truck6.png\n",
      "Prediction: truck - File name: truck7.png\n",
      "Prediction: truck - File name: truck8.png\n",
      "Prediction: truck - File name: truck9.png\n"
     ]
    },
    {
     "name": "stderr",
     "output_type": "stream",
     "text": [
      "d:\\python\\Lib\\site-packages\\PIL\\Image.py:1054: UserWarning: Palette images with Transparency expressed in bytes should be converted to RGBA images\n",
      "  warnings.warn(\n"
     ]
    }
   ],
   "source": [
    "from os import listdir\n",
    "from os.path import isfile, join\n",
    "\n",
    "new_transform = transforms.Compose([\n",
    "    transforms.Resize((32, 32)),\n",
    "    transforms.ToTensor(),\n",
    "    transforms.Normalize((0.5, 0.5, 0.5), (0.5, 0.5, 0.5))\n",
    "])\n",
    "\n",
    "def load_image(image_path):\n",
    "    image = Image.open(f'images/{image_path}').convert('RGB')\n",
    "    image = new_transform(image)\n",
    "    image = image.unsqueeze(0)\n",
    "    return image\n",
    "\n",
    "mypath = \"images\"\n",
    "image_paths = [f for f in listdir(mypath) if isfile(join(mypath, f))]\n",
    "images = [load_image(img) for img in image_paths]\n",
    "\n",
    "net.eval()\n",
    "with torch.no_grad():\n",
    "    for image, title in zip(images, image_paths):\n",
    "        output = net(image)\n",
    "        _, predicted = torch.max(output, 1)\n",
    "        print(f'Prediction: {class_names[predicted.item()]} - File name: {title}')"
   ]
  }
 ],
 "metadata": {
  "kernelspec": {
   "display_name": "Python 3",
   "language": "python",
   "name": "python3"
  },
  "language_info": {
   "codemirror_mode": {
    "name": "ipython",
    "version": 3
   },
   "file_extension": ".py",
   "mimetype": "text/x-python",
   "name": "python",
   "nbconvert_exporter": "python",
   "pygments_lexer": "ipython3",
   "version": "3.12.5"
  }
 },
 "nbformat": 4,
 "nbformat_minor": 2
}
